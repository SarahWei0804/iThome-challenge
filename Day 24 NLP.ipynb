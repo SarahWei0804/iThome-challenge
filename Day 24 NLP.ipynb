{
 "cells": [
  {
   "cell_type": "code",
   "execution_count": 5,
   "id": "f783bf7a",
   "metadata": {},
   "outputs": [
    {
     "name": "stderr",
     "output_type": "stream",
     "text": [
      "[nltk_data] Downloading package punkt to\n",
      "[nltk_data]     C:\\Users\\User\\AppData\\Roaming\\nltk_data...\n",
      "[nltk_data]   Package punkt is already up-to-date!\n"
     ]
    },
    {
     "data": {
      "text/plain": [
       "['You',\n",
       " 'will',\n",
       " 'improve',\n",
       " 'your',\n",
       " 'reading',\n",
       " 'comprehension',\n",
       " 'and',\n",
       " 'develop',\n",
       " 'your',\n",
       " 'vocabulary',\n",
       " 'on',\n",
       " 'a',\n",
       " 'diverse',\n",
       " 'range',\n",
       " 'of',\n",
       " 'international',\n",
       " 'events',\n",
       " ',',\n",
       " 'celebrations',\n",
       " 'and',\n",
       " 'topics',\n",
       " '.']"
      ]
     },
     "execution_count": 5,
     "metadata": {},
     "output_type": "execute_result"
    }
   ],
   "source": [
    "##Tokenization\n",
    "import nltk\n",
    "nltk.download('punkt')\n",
    "text = \"You will improve your reading comprehension and develop your vocabulary on a diverse range of international events, celebrations and topics.\"\n",
    "\n",
    "words = nltk.word_tokenize(text)\n",
    "words"
   ]
  },
  {
   "cell_type": "code",
   "execution_count": 17,
   "id": "79f7c6cd",
   "metadata": {},
   "outputs": [
    {
     "data": {
      "text/plain": [
       "'you will improv your read comprehens and develop your vocabulari on a divers rang of intern event , celebr and topic .'"
      ]
     },
     "execution_count": 17,
     "metadata": {},
     "output_type": "execute_result"
    }
   ],
   "source": [
    "## Stemming\n",
    "ps = nltk.porter.PorterStemmer()\n",
    "ps_text = [ps.stem(word) for word in words\n",
    "' '.join(ps_text)"
   ]
  },
  {
   "cell_type": "code",
   "execution_count": 23,
   "id": "23fd189a",
   "metadata": {},
   "outputs": [
    {
     "data": {
      "text/plain": [
       "'You will improve your reading comprehension and develop your vocabulary on a diverse range of international event , celebration and topic .'"
      ]
     },
     "execution_count": 23,
     "metadata": {},
     "output_type": "execute_result"
    }
   ],
   "source": [
    "#Lemmatization\n",
    "lem = nltk.WordNetLemmatizer()\n",
    "lem_text = [lem.lemmatize(word) for word in words]\n",
    "' '.join(lem_text)"
   ]
  },
  {
   "cell_type": "code",
   "execution_count": 25,
   "id": "a01b2044",
   "metadata": {},
   "outputs": [
    {
     "name": "stderr",
     "output_type": "stream",
     "text": [
      "[nltk_data] Downloading package stopwords to\n",
      "[nltk_data]     C:\\Users\\User\\AppData\\Roaming\\nltk_data...\n",
      "[nltk_data]   Package stopwords is already up-to-date!\n"
     ]
    },
    {
     "data": {
      "text/plain": [
       "['You',\n",
       " 'improve',\n",
       " 'reading',\n",
       " 'comprehension',\n",
       " 'develop',\n",
       " 'vocabulary',\n",
       " 'diverse',\n",
       " 'range',\n",
       " 'international',\n",
       " 'event',\n",
       " 'celebration',\n",
       " 'topic']"
      ]
     },
     "execution_count": 25,
     "metadata": {},
     "output_type": "execute_result"
    }
   ],
   "source": [
    "## remove stopwords \n",
    "import string \n",
    "nltk.download('stopwords')\n",
    "stopword_list = set(nltk.corpus.stopwords.words('english')+ list(string.punctuation))\n",
    "filter_tokens = [token for token in lem_text if token not in stopword_list]\n",
    "filter_text = ' '.join(filter_tokens)\n",
    "filter_tokens\n"
   ]
  },
  {
   "cell_type": "code",
   "execution_count": 32,
   "id": "cca568f2",
   "metadata": {},
   "outputs": [
    {
     "name": "stdout",
     "output_type": "stream",
     "text": [
      "Vocabulary: \n",
      " ['be', 'cloudy', 'day', 'good', 'hope', 'is', 'today', 'tommrow', 'was', 'will', 'yesterday']\n",
      "BOW: \n",
      " [[0 0 1 1 0 1 1 0 0 0 0]\n",
      " [0 1 1 0 0 0 0 0 1 0 1]\n",
      " [1 0 1 1 1 0 0 1 0 1 0]]\n"
     ]
    }
   ],
   "source": [
    "## BOW\n",
    "from sklearn.feature_extraction.text import CountVectorizer\n",
    "from sklearn.feature_extraction.text import TfidfTransformer\n",
    "\n",
    "corpus = [\"Today is a good day.\",\n",
    "         \"Yesterday was a cloudy day.\",\n",
    "         \"Hope tommrow will be a good day.\"]\n",
    "\n",
    "vectorizer = CountVectorizer()\n",
    "x = vectorizer.fit_transform(corpus)\n",
    "\n",
    "word = vectorizer.get_feature_names()\n",
    "print(\"Vocabulary: \\n\", word)\n",
    "print(\"BOW: \\n\", x.toarray())"
   ]
  },
  {
   "cell_type": "code",
   "execution_count": 36,
   "id": "20d4e103",
   "metadata": {},
   "outputs": [
    {
     "name": "stdout",
     "output_type": "stream",
     "text": [
      "TF-IDF: \n",
      " [[0.   0.   0.35 0.44 0.   0.58 0.58 0.   0.   0.   0.  ]\n",
      " [0.   0.55 0.32 0.   0.   0.   0.   0.   0.55 0.   0.55]\n",
      " [0.45 0.   0.27 0.34 0.45 0.   0.   0.45 0.   0.45 0.  ]]\n"
     ]
    }
   ],
   "source": [
    "## TF-IDF\n",
    "import numpy as np\n",
    "transformer = TfidfTransformer()\n",
    "tfidf = transformer.fit_transform(x)\n",
    "print(\"TF-IDF: \\n\", np.around(tfidf.toarray(),2))"
   ]
  },
  {
   "cell_type": "code",
   "execution_count": null,
   "id": "c46eda09",
   "metadata": {},
   "outputs": [],
   "source": []
  }
 ],
 "metadata": {
  "kernelspec": {
   "display_name": "Python 3 (ipykernel)",
   "language": "python",
   "name": "python3"
  },
  "language_info": {
   "codemirror_mode": {
    "name": "ipython",
    "version": 3
   },
   "file_extension": ".py",
   "mimetype": "text/x-python",
   "name": "python",
   "nbconvert_exporter": "python",
   "pygments_lexer": "ipython3",
   "version": "3.8.12"
  }
 },
 "nbformat": 4,
 "nbformat_minor": 5
}
