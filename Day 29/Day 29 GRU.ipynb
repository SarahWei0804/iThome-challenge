{
 "cells": [
  {
   "cell_type": "code",
   "execution_count": 2,
   "id": "44580e10",
   "metadata": {},
   "outputs": [
    {
     "name": "stdout",
     "output_type": "stream",
     "text": [
      "('的', 1)\n",
      "('是', 2)\n",
      "('有', 3)\n",
      "('在', 4)\n",
      "('也', 5)\n",
      "('一', 6)\n",
      "('了', 7)\n",
      "('就', 8)\n",
      "('不', 9)\n",
      "('都', 10)\n",
      "===================\n",
      "('實習', 1708)\n",
      "('記者', 8023)\n",
      "('周依儒', 51)\n",
      "('綜合', 3054)\n",
      "('報導', 6132)\n",
      "('晚上', 472)\n",
      "('在', 24798)\n",
      "('路', 641)\n",
      "('邊', 1522)\n",
      "('時', 5709)\n"
     ]
    }
   ],
   "source": [
    "from tensorflow.keras.preprocessing.text import Tokenizer\n",
    "import pandas as pd\n",
    "max_words = 5000\n",
    "max_len = 500\n",
    "tokenizer = Tokenizer(num_words=max_words)  ## 使用的最大詞語數為5000\n",
    "news = pd.read_excel('ETtoday news_202205.xlsx', engine = 'openpyxl')\n",
    "tokenizer.fit_on_texts(news['tokenization'])\n",
    "\n",
    "## 使用word_index屬性可以看到每個詞對應的編碼\n",
    "## 使用word_counts屬性可以看到每個詞對應的頻數\n",
    "for index,item in enumerate(tokenizer.word_index.items()):\n",
    "    if index < 10:\n",
    "        print(item)\n",
    "    else:\n",
    "        break\n",
    "print(\"===================\")  \n",
    "for index,item in enumerate(tokenizer.word_counts.items()):\n",
    "    if index < 10:\n",
    "        print(item)\n",
    "    else:\n",
    "        break\n",
    "from sklearn.preprocessing import OneHotEncoder, LabelEncoder\n",
    "from sklearn.model_selection import train_test_split\n",
    "labelencoder = LabelEncoder()\n",
    "le_y = labelencoder.fit_transform(news['category']).reshape(-1,1)\n",
    "ohe = OneHotEncoder()\n",
    "y = ohe.fit_transform(le_y).toarray()\n",
    "x = news['tokenization']\n",
    "#Split the data to have 20% validation split\n",
    "train_x, test_x, train_y, test_y = train_test_split(x, y, test_size=0.2)\n",
    "\n",
    "from sklearn import metrics\n",
    "from tensorflow.keras.models import Model\n",
    "from tensorflow.keras.layers import Activation, Dense, Dropout, Input, Embedding, GRU\n",
    "from tensorflow.keras.optimizers import RMSprop\n",
    "from tensorflow.keras.preprocessing.text import Tokenizer\n",
    "from tensorflow.keras.preprocessing import sequence\n",
    "\n",
    "train_seq = tokenizer.texts_to_sequences(train_x)\n",
    "test_seq = tokenizer.texts_to_sequences(test_x)\n",
    "## 將每個序列調整相同的長度\n",
    "train_seq_mat = sequence.pad_sequences(train_seq,maxlen=max_len)\n",
    "test_seq_mat = sequence.pad_sequences(test_seq,maxlen=max_len)\n",
    "# print(train_seq_mat.shape, test_seq_mat.shape)\n",
    "\n"
   ]
  },
  {
   "cell_type": "code",
   "execution_count": 3,
   "id": "992aa619",
   "metadata": {},
   "outputs": [
    {
     "name": "stdout",
     "output_type": "stream",
     "text": [
      "Model: \"functional_1\"\n",
      "_________________________________________________________________\n",
      "Layer (type)                 Output Shape              Param #   \n",
      "=================================================================\n",
      "inputs (InputLayer)          [(None, 500)]             0         \n",
      "_________________________________________________________________\n",
      "embedding (Embedding)        (None, 500, 128)          640128    \n",
      "_________________________________________________________________\n",
      "gru (GRU)                    (None, 128)               99072     \n",
      "_________________________________________________________________\n",
      "FC1 (Dense)                  (None, 128)               16512     \n",
      "_________________________________________________________________\n",
      "dropout (Dropout)            (None, 128)               0         \n",
      "_________________________________________________________________\n",
      "FC2 (Dense)                  (None, 3)                 387       \n",
      "=================================================================\n",
      "Total params: 756,099\n",
      "Trainable params: 756,099\n",
      "Non-trainable params: 0\n",
      "_________________________________________________________________\n"
     ]
    }
   ],
   "source": [
    "inputs = Input(name='inputs',shape=[max_len])\n",
    "## Embedding(詞匯表大小,vector長度,每個新聞的詞長)\n",
    "layer = Embedding(max_words+1,128,input_length=max_len)(inputs)\n",
    "layer = GRU(128)(layer)\n",
    "layer = Dense(128,activation=\"relu\",name=\"FC1\")(layer)\n",
    "layer = Dropout(0.3)(layer)\n",
    "layer = Dense(3,activation=\"softmax\",name=\"FC2\")(layer)\n",
    "model = Model(inputs=inputs,outputs=layer)\n",
    "model.summary()\n",
    "## multi-classification problem use categorical_crossentropy\n",
    "model.compile(loss=\"categorical_crossentropy\",optimizer=RMSprop(),metrics=[\"accuracy\"])"
   ]
  },
  {
   "cell_type": "code",
   "execution_count": 4,
   "id": "26a2b8f5",
   "metadata": {},
   "outputs": [
    {
     "name": "stdout",
     "output_type": "stream",
     "text": [
      "Epoch 1/10\n",
      "36/36 [==============================] - 33s 915ms/step - loss: 0.5494 - accuracy: 0.8150 - val_loss: 0.2448 - val_accuracy: 0.8667\n",
      "Epoch 2/10\n",
      "36/36 [==============================] - 40s 1s/step - loss: 0.1396 - accuracy: 0.9568 - val_loss: 0.0749 - val_accuracy: 0.9877\n",
      "Epoch 3/10\n",
      "36/36 [==============================] - 40s 1s/step - loss: 0.0313 - accuracy: 0.9947 - val_loss: 0.0136 - val_accuracy: 0.9974\n",
      "Epoch 4/10\n",
      "36/36 [==============================] - 40s 1s/step - loss: 0.0165 - accuracy: 0.9939 - val_loss: 0.0111 - val_accuracy: 0.9965\n",
      "Epoch 5/10\n",
      "36/36 [==============================] - 38s 1s/step - loss: 0.0098 - accuracy: 0.9974 - val_loss: 0.0152 - val_accuracy: 0.9956\n",
      "Epoch 6/10\n",
      "36/36 [==============================] - 41s 1s/step - loss: 0.0016 - accuracy: 0.9993 - val_loss: 0.0091 - val_accuracy: 0.9974\n",
      "Epoch 7/10\n",
      "36/36 [==============================] - 40s 1s/step - loss: 1.0079e-04 - accuracy: 1.0000 - val_loss: 0.0084 - val_accuracy: 0.9974\n",
      "Epoch 8/10\n",
      "36/36 [==============================] - 40s 1s/step - loss: 1.3858e-05 - accuracy: 1.0000 - val_loss: 0.0079 - val_accuracy: 0.9991\n",
      "Epoch 9/10\n",
      "36/36 [==============================] - 40s 1s/step - loss: 2.1722e-06 - accuracy: 1.0000 - val_loss: 0.0125 - val_accuracy: 0.9982\n",
      "Epoch 10/10\n",
      "36/36 [==============================] - 40s 1s/step - loss: 0.0025 - accuracy: 0.9989 - val_loss: 0.0083 - val_accuracy: 0.9982\n"
     ]
    }
   ],
   "source": [
    "model_fit = model.fit(train_seq_mat,train_y,batch_size=128,epochs=10,\n",
    "                      validation_split=0.2)\n"
   ]
  },
  {
   "cell_type": "code",
   "execution_count": 5,
   "id": "e3d31a3d",
   "metadata": {},
   "outputs": [
    {
     "name": "stdout",
     "output_type": "stream",
     "text": [
      "Confusion matrix: \n",
      " [[194   0   0]\n",
      " [  2 604   0]\n",
      " [  1   0 624]]\n",
      "Out-of-sample loss:  0.008170878514647484 Out-of-sample accuracy: 0.9978947639465332\n",
      "              precision    recall  f1-score   support\n",
      "\n",
      "           0       0.98      1.00      0.99       194\n",
      "           1       1.00      1.00      1.00       606\n",
      "           2       1.00      1.00      1.00       625\n",
      "\n",
      "    accuracy                           1.00      1425\n",
      "   macro avg       0.99      1.00      1.00      1425\n",
      "weighted avg       1.00      1.00      1.00      1425\n",
      "\n"
     ]
    }
   ],
   "source": [
    "import numpy as np\n",
    "test_pre = model.predict(test_seq_mat)\n",
    "## evaluate the performance of prediction\n",
    "confusion_matrix = metrics.confusion_matrix(np.argmax(test_pre,axis=1),np.argmax(test_y,axis=1))\n",
    "print(\"Confusion matrix: \\n\",confusion_matrix)\n",
    "\n",
    "scores = model.evaluate(test_seq_mat, test_y, verbose=0)\n",
    "print(\"Out-of-sample loss: \", scores[0],\"Out-of-sample accuracy:\", scores[1])\n",
    "\n",
    "print(metrics.classification_report(np.argmax(test_pre,axis=1),np.argmax(test_y,axis=1)))\n"
   ]
  },
  {
   "cell_type": "code",
   "execution_count": 6,
   "id": "6dc90dc2",
   "metadata": {},
   "outputs": [
    {
     "data": {
      "image/png": "[encoded data removed]",
      "text/plain": [
       "<Figure size 432x360 with 1 Axes>"
      ]
     },
     "metadata": {
      "needs_background": "light"
     },
     "output_type": "display_data"
    },
    {
     "data": {
      "image/png": "[encoded data removed]",
      "text/plain": [
       "<Figure size 432x360 with 1 Axes>"
      ]
     },
     "metadata": {
      "needs_background": "light"
     },
     "output_type": "display_data"
    }
   ],
   "source": [
    "\n",
    "# 繪製歷程圖\n",
    "import matplotlib.pyplot as plt\n",
    "def show_train_history(train_history):\n",
    "    plt.figure(figsize=(6,5))\n",
    "    plt.plot(train_history.history['accuracy'])\n",
    "    plt.plot(train_history.history['val_accuracy'])\n",
    "    plt.xticks([i for i in range(len(train_history.history['accuracy']))])\n",
    "    plt.title('Train History')\n",
    "    plt.ylabel('accuracy')\n",
    "    plt.xlabel('epoch')\n",
    "    plt.legend(['Train', 'Val'], loc='upper left')\n",
    "    plt.savefig('Accuracy.png')\n",
    "    plt.show()\n",
    "\n",
    "    plt.figure(figsize=(6,5))\n",
    "    plt.plot(train_history.history['loss'])\n",
    "    plt.plot(train_history.history['val_loss'])\n",
    "    plt.xticks([i for i in range(len(train_history.history['loss']))])\n",
    "    plt.title('Train History')\n",
    "    plt.ylabel('loss')\n",
    "    plt.xlabel('epoch')\n",
    "    plt.legend(['Train', 'Val'], loc='upper left')\n",
    "    plt.savefig('Loss.png')\n",
    "    plt.show()\n",
    "show_train_history(model_fit)\n"
   ]
  },
  {
   "cell_type": "code",
   "execution_count": null,
   "id": "f054db63",
   "metadata": {},
   "outputs": [],
   "source": []
  }
 ],
 "metadata": {
  "kernelspec": {
   "display_name": "Python 3 (ipykernel)",
   "language": "python",
   "name": "python3"
  },
  "language_info": {
   "codemirror_mode": {
    "name": "ipython",
    "version": 3
   },
   "file_extension": ".py",
   "mimetype": "text/x-python",
   "name": "python",
   "nbconvert_exporter": "python",
   "pygments_lexer": "ipython3",
   "version": "3.8.12"
  }
 },
 "nbformat": 4,
 "nbformat_minor": 5
}
