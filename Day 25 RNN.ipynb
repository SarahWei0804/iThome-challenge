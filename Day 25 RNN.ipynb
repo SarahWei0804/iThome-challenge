{
 "cells": [
  {
   "cell_type": "code",
   "execution_count": 27,
   "id": "83b2b279",
   "metadata": {},
   "outputs": [],
   "source": [
    "from tensorflow.keras.datasets import mnist\n",
    "from tensorflow.keras import utils\n",
    "from tensorflow.keras.models import Sequential\n",
    "from tensorflow.keras.layers import SimpleRNN, Dense\n",
    "(x_train, y_train), (x_test, y_test) = mnist.load_data()"
   ]
  },
  {
   "cell_type": "code",
   "execution_count": 28,
   "id": "4c00b83c",
   "metadata": {},
   "outputs": [],
   "source": [
    "x_train = x_train.reshape(-1,28,28)/255.\n",
    "x_test = x_test.reshape(-1,28,28)/255.\n",
    "y_train = utils.to_categorical(y_train, num_classes = 10)\n",
    "y_test = utils.to_categorical(y_test, num_classes=10)"
   ]
  },
  {
   "cell_type": "code",
   "execution_count": 32,
   "id": "63c6d5cb",
   "metadata": {
    "scrolled": true
   },
   "outputs": [
    {
     "name": "stdout",
     "output_type": "stream",
     "text": [
      "Model: \"sequential_5\"\n",
      "_________________________________________________________________\n",
      "Layer (type)                 Output Shape              Param #   \n",
      "=================================================================\n",
      "simple_rnn_5 (SimpleRNN)     (None, 64)                5952      \n",
      "_________________________________________________________________\n",
      "dense_5 (Dense)              (None, 10)                650       \n",
      "=================================================================\n",
      "Total params: 6,602\n",
      "Trainable params: 6,602\n",
      "Non-trainable params: 0\n",
      "_________________________________________________________________\n",
      "Epoch 1/10\n",
      "750/750 [==============================] - 5s 7ms/step - loss: 0.7189 - accuracy: 0.7739 - val_loss: 0.3993 - val_accuracy: 0.8813\n",
      "Epoch 2/10\n",
      "750/750 [==============================] - 5s 6ms/step - loss: 0.3250 - accuracy: 0.9045 - val_loss: 0.2687 - val_accuracy: 0.9227\n",
      "Epoch 3/10\n",
      "750/750 [==============================] - 5s 6ms/step - loss: 0.2574 - accuracy: 0.9245 - val_loss: 0.2111 - val_accuracy: 0.9377\n",
      "Epoch 4/10\n",
      "750/750 [==============================] - 5s 6ms/step - loss: 0.2167 - accuracy: 0.9361 - val_loss: 0.1919 - val_accuracy: 0.9452\n",
      "Epoch 5/10\n",
      "750/750 [==============================] - 5s 6ms/step - loss: 0.2016 - accuracy: 0.9403 - val_loss: 0.1763 - val_accuracy: 0.9499\n",
      "Epoch 6/10\n",
      "750/750 [==============================] - 5s 6ms/step - loss: 0.1837 - accuracy: 0.9473 - val_loss: 0.1780 - val_accuracy: 0.9487\n",
      "Epoch 7/10\n",
      "750/750 [==============================] - 5s 6ms/step - loss: 0.1722 - accuracy: 0.9489 - val_loss: 0.1578 - val_accuracy: 0.9551\n",
      "Epoch 8/10\n",
      "750/750 [==============================] - 5s 6ms/step - loss: 0.1548 - accuracy: 0.9551 - val_loss: 0.1492 - val_accuracy: 0.9552\n",
      "Epoch 9/10\n",
      "750/750 [==============================] - 4s 6ms/step - loss: 0.1469 - accuracy: 0.9574 - val_loss: 0.1708 - val_accuracy: 0.9496\n",
      "Epoch 10/10\n",
      "750/750 [==============================] - 5s 6ms/step - loss: 0.1441 - accuracy: 0.9575 - val_loss: 0.1432 - val_accuracy: 0.9578\n"
     ]
    }
   ],
   "source": [
    "model = Sequential()\n",
    "model.add(SimpleRNN(units = 64, batch_input_shape = (None, 28, 28), unroll = True))\n",
    "model.add(Dense(units = 10, activation = 'softmax'))\n",
    "model.summary()\n",
    "model.compile(loss = 'categorical_crossentropy', optimizer = 'adam', metrics = ['accuracy'])\n",
    "train_history = model.fit(x_train, y_train, epochs = 10, batch_size = 64, validation_split = 0.2,verbose = True)"
   ]
  },
  {
   "cell_type": "code",
   "execution_count": 33,
   "id": "17ad877f",
   "metadata": {},
   "outputs": [
    {
     "data": {
      "text/plain": [
       "0.9571999907493591"
      ]
     },
     "execution_count": 33,
     "metadata": {},
     "output_type": "execute_result"
    }
   ],
   "source": [
    "acc = model.evaluate(x_test,y_test, verbose = 0)[1]\n",
    "acc"
   ]
  },
  {
   "cell_type": "code",
   "execution_count": 34,
   "id": "2bf1f907",
   "metadata": {},
   "outputs": [
    {
     "data": {
      "image/png": "[encoded data removed]",
      "text/plain": [
       "<Figure size 432x288 with 1 Axes>"
      ]
     },
     "metadata": {
      "needs_background": "light"
     },
     "output_type": "display_data"
    }
   ],
   "source": [
    "import matplotlib.pyplot as plt\n",
    "plt.plot(train_history.history['accuracy'], label = 'train_acc')\n",
    "plt.plot(train_history.history['val_accuracy'], label = 'val_acc')\n",
    "plt.xlabel('Epochs')\n",
    "plt.ylabel('Accuracy')\n",
    "plt.legend()\n",
    "plt.show()"
   ]
  },
  {
   "cell_type": "code",
   "execution_count": null,
   "id": "d4214637",
   "metadata": {},
   "outputs": [],
   "source": []
  }
 ],
 "metadata": {
  "kernelspec": {
   "display_name": "Python 3 (ipykernel)",
   "language": "python",
   "name": "python3"
  },
  "language_info": {
   "codemirror_mode": {
    "name": "ipython",
    "version": 3
   },
   "file_extension": ".py",
   "mimetype": "text/x-python",
   "name": "python",
   "nbconvert_exporter": "python",
   "pygments_lexer": "ipython3",
   "version": "3.8.12"
  }
 },
 "nbformat": 4,
 "nbformat_minor": 5
}
